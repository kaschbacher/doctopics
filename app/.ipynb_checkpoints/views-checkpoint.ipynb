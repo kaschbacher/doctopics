{
 "cells": [
  {
   "cell_type": "code",
   "execution_count": null,
   "metadata": {
    "collapsed": true
   },
   "outputs": [],
   "source": [
    "from flask import render_template\n",
    "from app import app\n",
    "import pymysql as mdb\n",
    "\n",
    "db = mdb.connect(user=\"root\", host=\"localhost\", db=\"world_innodb\", charset='utf8')\n",
    "\n",
    "@app.route('/')\n",
    "@app.route('/index')\n",
    "def index():\n",
    "    return render_template(\"index.html\",\n",
    "       title = 'Home', user = { 'nickname': 'Miguel' },\n",
    "       )\n",
    "\n",
    "@app.route('/db')\n",
    "def cities_page():\n",
    "    with db:\n",
    "        cur = db.cursor()\n",
    "        cur.execute(\"SELECT Name FROM City LIMIT 15;\")\n",
    "        query_results = cur.fetchall()\n",
    "    cities = \"\"\n",
    "    for result in query_results:\n",
    "        cities += result[0]\n",
    "        cities += \"<br>\"\n",
    "    return cities"
   ]
  }
 ],
 "metadata": {
  "kernelspec": {
   "display_name": "Python 2",
   "language": "python",
   "name": "python2"
  },
  "language_info": {
   "codemirror_mode": {
    "name": "ipython",
    "version": 2
   },
   "file_extension": ".py",
   "mimetype": "text/x-python",
   "name": "python",
   "nbconvert_exporter": "python",
   "pygments_lexer": "ipython2",
   "version": "2.7.10"
  }
 },
 "nbformat": 4,
 "nbformat_minor": 0
}
